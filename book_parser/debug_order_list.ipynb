{
 "cells": [
  {
   "cell_type": "code",
   "execution_count": 7,
   "metadata": {},
   "outputs": [],
   "source": [
    "import order_book\n",
    "import csv_messages"
   ]
  },
  {
   "cell_type": "code",
   "execution_count": 8,
   "metadata": {},
   "outputs": [
    {
     "data": {
      "text/plain": [
       "<module 'csv_messages' from 'csv_messages.pyc'>"
      ]
     },
     "execution_count": 8,
     "metadata": {},
     "output_type": "execute_result"
    }
   ],
   "source": [
    "reload(csv_messages)"
   ]
  },
  {
   "cell_type": "code",
   "execution_count": 169,
   "metadata": {},
   "outputs": [],
   "source": [
    "reload(order_book)\n",
    "tree = order_book.OrderTree()\n",
    "\n",
    "with open('../AAPL_test.csv', 'r') as fi:\n",
    "    rows = fi.readlines()\n",
    "    \n",
    "for row in rows:\n",
    "    if row[0] == '#':\n",
    "        continue\n",
    "    msg = csv_messages.message_factory(row.strip())\n",
    "    if msg.mtype == 'A':\n",
    "        order = order_book.Order(msg.time_stamp, msg.order_ref_num, msg.buy_sell_indicator, msg.shares, msg.price)\n",
    "        tree.add_order(order)\n",
    "    elif msg.mtype == 'D':\n",
    "        tree.remove_order(msg.order_ref_num)\n",
    "    elif msg.mtype == 'X':\n",
    "        tree.cancel_order(msg.order_ref_num, msg.cancalled_shares)\n",
    "    elif msg.mtype == 'U':\n",
    "        tree.update_order(msg.time_stamp, msg.order_ref_num, msg.new_order_ref_num, msg.shares, msg.price)\n",
    "    elif msg.mtype == 'E':\n",
    "        tree.excute_order(msg.order_ref_num, msg.executed_shares)"
   ]
  },
  {
   "cell_type": "code",
   "execution_count": 175,
   "metadata": {},
   "outputs": [],
   "source": [
    "bid = order_book.Order(999999, 1234, 'B', 125, 200)\n",
    "askList = tree.price_map[100]"
   ]
  },
  {
   "cell_type": "code",
   "execution_count": 176,
   "metadata": {},
   "outputs": [
    {
     "name": "stdout",
     "output_type": "stream",
     "text": [
      "[0, 0]\n",
      "125\n"
     ]
    }
   ],
   "source": [
    "print [ c.shares for c in askList.order_list ]\n",
    "print bid.shares"
   ]
  },
  {
   "cell_type": "code",
   "execution_count": 185,
   "metadata": {},
   "outputs": [],
   "source": [
    "reload(order_book)\n",
    "book = order_book.OrderBook()"
   ]
  },
  {
   "cell_type": "code",
   "execution_count": 186,
   "metadata": {},
   "outputs": [],
   "source": [
    "book.add_bid(bid)"
   ]
  },
  {
   "cell_type": "code",
   "execution_count": 198,
   "metadata": {},
   "outputs": [
    {
     "data": {
      "text/plain": [
       "125"
      ]
     },
     "execution_count": 198,
     "metadata": {},
     "output_type": "execute_result"
    }
   ],
   "source": [
    "book.bidTree.price_tree.min_item()[1].volume"
   ]
  },
  {
   "cell_type": "code",
   "execution_count": null,
   "metadata": {
    "collapsed": true
   },
   "outputs": [],
   "source": []
  }
 ],
 "metadata": {
  "kernelspec": {
   "display_name": "Python [Root]",
   "language": "python",
   "name": "Python [Root]"
  },
  "language_info": {
   "codemirror_mode": {
    "name": "ipython",
    "version": 2
   },
   "file_extension": ".py",
   "mimetype": "text/x-python",
   "name": "python",
   "nbconvert_exporter": "python",
   "pygments_lexer": "ipython2",
   "version": "2.7.13"
  }
 },
 "nbformat": 4,
 "nbformat_minor": 2
}
